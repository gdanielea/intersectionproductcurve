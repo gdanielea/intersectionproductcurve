{
 "cells": [
  {
   "cell_type": "markdown",
   "id": "d29d871d-b840-4def-94a9-2590ee062c61",
   "metadata": {},
   "source": [
    "# Intersection product on the cartesian product of a curve"
   ]
  },
  {
   "cell_type": "markdown",
   "id": "bb2e3a3f-5d53-4f89-a218-df3b88d898aa",
   "metadata": {},
   "source": [
    "* Authors: Daniele Agostini, Daniel Plaumann, Rainer Sinn, Yannik Wesner.\n",
    "* Version: OSCAR version 1.1.0 or newer. \n",
    "* Reference: [APSW] D. Agostini, D. Plaumann, R. Sinn, Y. Wesner, *Plane quartics and heptagons*, arXiv:2408.15759 (2024). "
   ]
  },
  {
   "cell_type": "markdown",
   "id": "26b31ec8-f2d7-4028-9d16-6eb4fe65d71f",
   "metadata": {},
   "source": [
    "We demonstrate how to perform intersection calculus on the cartesian product of a smooth curve.\n",
    "\n",
    "Let $C$ be a smooth and irreducible projective complex curve of genus $g$. We consider the cartesian product $C^n$ for $n>0$. For any indexes $1\\leq i < j \\leq n$ we consider the projections\n",
    "$$ \\operatorname{pr}_i : C^n \\to C, \\quad \\operatorname{pr}_{ij}: C^n \\to C\\times C $$\n",
    "onto the $i$-th and the $(i,j)$-th components respectively. These induce some natural numerical equivalence classes of divisors on $C^n$:\n",
    "\n",
    "* $x_i := \\operatorname{pr}_i^*(x)$ where $x\\in C$ is any point.\n",
    "* $\\Delta_{ij} := \\operatorname{pr}^*(\\Delta_{ij})$ where $\\Delta\\subseteq C\\times C$ is the diagonal.\n",
    "\n",
    "Many problems in the enumerative geometry of $C$ can be phrased in terms of intersection calculus of these classes. We aim to perform these computationally in OSCAR. We first set up a ring with the variables that we need"
   ]
  },
  {
   "cell_type": "markdown",
   "id": "17f18889",
   "metadata": {},
   "source": []
  },
  {
   "cell_type": "code",
   "execution_count": null,
   "id": "667a4e33-1567-4b0f-8618-7f995da41ee2",
   "metadata": {},
   "outputs": [
    {
     "name": "stdout",
     "output_type": "stream",
     "text": [
      "  ___   ____   ____    _    ____\n",
      " / _ \\ / ___| / ___|  / \\  |  _ \\   |  Combining ANTIC, GAP, Polymake, Singular\n",
      "| | | |\\___ \\| |     / _ \\ | |_) |  |  Type \"?Oscar\" for more information\n",
      "| |_| | ___) | |___ / ___ \\|  _ <   |  Manual: https://docs.oscar-system.org\n",
      " \\___/ |____/ \\____/_/   \\_\\_| \\_\\  |  1.2.0-DEV #master 2941518 2024-07-16\n"
     ]
    }
   ],
   "source": [
    "using Oscar\n",
    "using Graphs"
   ]
  },
  {
   "cell_type": "code",
   "execution_count": null,
   "id": "f6e7c45c-9257-417f-87b4-8d957556b47b",
   "metadata": {},
   "outputs": [],
   "source": [
    "# We set the genus g of the curve C and the number of copies n in the Cartesian product C^n\n",
    "n = 7\n",
    "g = 3"
   ]
  },
  {
   "cell_type": "code",
   "execution_count": null,
   "id": "a9fefbef-94a0-43e1-8aa4-0ab7ff04fbbf",
   "metadata": {},
   "outputs": [],
   "source": [
    "# We define the polynomial ring that we use to describe the intersection product: \n",
    "# it has variables x[1],...,x[n] and Delta[1,2],...,Delta[n-1,n]\n",
    "\n",
    "RCart, x, Delta = polynomial_ring(QQ, \"x\" => (1:n), \"Delta\" => (1:n, 1:n));\n",
    "\n",
    "# We are going to redefine it later in the examples"
   ]
  },
  {
   "cell_type": "markdown",
   "id": "83c484cc-fba6-49d0-9385-58f5945f144c",
   "metadata": {},
   "source": [
    "## Reduced form"
   ]
  },
  {
   "cell_type": "markdown",
   "id": "29f96fc9-5f47-483f-9c0f-27702c0fc87e",
   "metadata": {},
   "source": [
    "In order to compute intersection numbers, we need to consider monomials in the classes $x_i$ and $\\Delta_{ij}$. The first observation is that these monomials can be brought into reduced form via three relations: the first one is\n",
    "\n",
    "**Relation 1**: $x_i^2 = 0$ for all $1\\leq i \\leq n$\n",
    "\n",
    "This relation allows us to discard all monomials where one variable $x_i$ appears with exponent at least two.\n",
    "\n",
    "This is implemented by the following function: "
   ]
  },
  {
   "cell_type": "code",
   "execution_count": 2,
   "id": "1b46458e-b4c7-4f18-8cbc-a4011c8d8456",
   "metadata": {},
   "outputs": [
    {
     "data": {
      "text/plain": [
       "reduce_term_relation_1 (generic function with 1 method)"
      ]
     },
     "execution_count": 2,
     "metadata": {},
     "output_type": "execute_result"
    }
   ],
   "source": [
    "# The following function implements relation 1: x[i]^2 = 0\n",
    "\n",
    "function reduce_term_relation_1(m)\n",
    "if m==0\n",
    "    return m\n",
    "else\n",
    "    mred = m;\n",
    "    for i in 1:n\n",
    "        if exponent(mred,1,var_index(x[i]))>1\n",
    "            mred = 0;\n",
    "            return mred\n",
    "        end    \n",
    "    end\n",
    "return mred\n",
    "end\n",
    "end"
   ]
  },
  {
   "cell_type": "markdown",
   "id": "7703164c-d872-49be-8911-3556dfea9615",
   "metadata": {},
   "source": [
    "The second relation is:\n",
    "\n",
    "**Relation 2**: $x_i\\cdot \\Delta_{ij} = x_j \\cdot\\Delta_{ij} = x_i\\cdot x_i$ for all $1\\leq i< j \\leq n$\n",
    "\n",
    "This relation allows us to replace the variable $\\Delta_{ij}$ with one variable $x_i$ or $x_j$. \n",
    "\n",
    "This is implemented by the following function:"
   ]
  },
  {
   "cell_type": "code",
   "execution_count": 3,
   "id": "9b147a96-cb22-4516-ab1b-df92b76aeb4a",
   "metadata": {},
   "outputs": [
    {
     "data": {
      "text/plain": [
       "reduce_term_relation_2 (generic function with 1 method)"
      ]
     },
     "execution_count": 3,
     "metadata": {},
     "output_type": "execute_result"
    }
   ],
   "source": [
    "function reduce_term_relation_2(m)\n",
    "if m==0\n",
    "    return m;\n",
    "else\n",
    "    mred = m;\n",
    "    for i in 1:n\n",
    "        if mred == 0\n",
    "            return 0;        \n",
    "        elseif exponent(mred,1,var_index(x[i]))>1\n",
    "            mred = 0\n",
    "            return mred\n",
    "        elseif exponent(mred,1,var_index(x[i]))==1\n",
    "            for j in i+1:n\n",
    "                if mred == 0\n",
    "                    return 0\n",
    "                elseif exponent(mred,1,var_index(Delta[i,j]))>0\n",
    "                    mred = divexact(mred,Delta[i,j])*x[j];\n",
    "                end\n",
    "            end\n",
    "            for j in 1:i-1\n",
    "                if mred == 0\n",
    "                    return 0\n",
    "                elseif exponent(mred,1,var_index(Delta[j,i]))>0\n",
    "                    mred = divexact(mred,Delta[j,i])*x[j];\n",
    "                    mred = reduce_term_relation_2(mred);\n",
    "                end\n",
    "            end\n",
    "        end\n",
    "    end\n",
    "return mred\n",
    "end\n",
    "end"
   ]
  },
  {
   "cell_type": "markdown",
   "id": "a2250ff8-8b4c-4d84-9956-f0968d6ee3f5",
   "metadata": {},
   "source": [
    "The third relation is\n",
    "\n",
    "**Relation 3**: $\\Delta_{ij}^3 = 0$ and $\\Delta_{ij}^2 = -(2g-2)\\cdot x_i \\cdot x_j$ for all $1\\leq i<j\\leq n$\n",
    "\n",
    "This relation allows us to replace a higher power of $\\Delta_{ij}$ by zero or by a term in $x_i,x_j$. It is implemented by the following function:"
   ]
  },
  {
   "cell_type": "code",
   "execution_count": 4,
   "id": "7802e3d2-c8be-4e7e-8099-17f56c8403b4",
   "metadata": {},
   "outputs": [
    {
     "data": {
      "text/plain": [
       "reduce_term_relation_3 (generic function with 1 method)"
      ]
     },
     "execution_count": 4,
     "metadata": {},
     "output_type": "execute_result"
    }
   ],
   "source": [
    "function reduce_term_relation_3(m)\n",
    "if m==0\n",
    "    return m\n",
    "else\n",
    "    mred = m;\n",
    "    # This block implements relation (3)\n",
    "    for i in 1:n\n",
    "        for j in i+1:n\n",
    "            if exponent(mred,1,var_index(Delta[i,j]))>2\n",
    "                mred=0;\n",
    "                return mred\n",
    "            elseif exponent(mred,1,var_index(Delta[i,j]))==2\n",
    "                mred = -(2*g-2)*x[i]*x[j]*divexact(mred,(Delta[i,j]^2));\n",
    "            end\n",
    "        end\n",
    "    end\n",
    "return mred\n",
    "end\n",
    "end"
   ]
  },
  {
   "cell_type": "markdown",
   "id": "162e4878-32f4-41cc-b4d7-c67aa149bce5",
   "metadata": {},
   "source": [
    "These relations all together allow us to write any term in the $x_i$ and $\\Delta_{ij}$ in the *reduced form*\n",
    "\n",
    "$$ x_{i_1}\\cdot x_{i_2} \\cdot \\dots \\cdot x_{i_r} \\cdot \\Delta_{h_1k_1} \\cdot \\dots \\Delta_{h_sk_s} \n",
    "$$ \n",
    "where $i_1,\\dots,i_r$ and $(h_1k_1),\\dots,(h_sk_s)$ are pairwise distinct and the two groups of indices are disjoint, i.e.\n",
    "$$\n",
    "\\{ i_1,\\dots,i_r \\} \\cap \\{ h_1,k_1,\\dotsc,h_s,k_s \\} = \\emptyset.  \n",
    "$$\n",
    "This is implemented by the following two functions, for a single term and for a polynomial:"
   ]
  },
  {
   "cell_type": "code",
   "execution_count": 5,
   "id": "39070ccb-49ab-4a87-90f2-ed372fe44bcb",
   "metadata": {},
   "outputs": [
    {
     "data": {
      "text/plain": [
       "reduce_polynomial (generic function with 1 method)"
      ]
     },
     "execution_count": 5,
     "metadata": {},
     "output_type": "execute_result"
    }
   ],
   "source": [
    "# This function brings an arbitrary term into reduced form\n",
    "\n",
    "function reduce_term(m)\n",
    "    mred = m;\n",
    "    mred = reduce_term_relation_1(mred);\n",
    "    mred = reduce_term_relation_3(mred);\n",
    "    mred = reduce_term_relation_2(mred);\n",
    "return mred    \n",
    "end\n",
    "\n",
    "# This function takes a polynomial and brings each term into reduced form\n",
    "\n",
    "function reduce_polynomial(F)\n",
    "    Fred = 0;\n",
    "    for i in 1:length(terms(F))\n",
    "        Fred = Fred + reduce_term(term(F,i))\n",
    "    end\n",
    "return Fred\n",
    "end"
   ]
  },
  {
   "cell_type": "markdown",
   "id": "6b0c6e5e-8aa7-4c9d-93ad-1e95b6889bb8",
   "metadata": {},
   "source": [
    "Some easy examples are:"
   ]
  },
  {
   "cell_type": "code",
   "execution_count": 7,
   "id": "9966340f-4f7f-492a-b04a-18da813be93c",
   "metadata": {},
   "outputs": [
    {
     "data": {
      "text/plain": [
       "x[1]*x[2]*x[4]"
      ]
     },
     "execution_count": 7,
     "metadata": {},
     "output_type": "execute_result"
    }
   ],
   "source": [
    "# Some examples\n",
    "\n",
    "# We set the genus g of the curve C and the number of copies n in the Cartesian product C^n\n",
    "n = 7\n",
    "g = 3\n",
    "\n",
    "# We define the polynomial ring that we use to describe the intersection product: it has variables x[1],...,x[n] and Delta[1,2],...,Delta[n-1,n]\n",
    "\n",
    "RCart, x, Delta = polynomial_ring(QQ, \"x\" => (1:n), \"Delta\" => (1:n, 1:n));\n",
    "\n",
    "#reduce_term(x[1]*x[3]*x[4]*Delta[1,5]*Delta[3,4]*Delta[4,6])\n",
    "#reduce_term(x[1]*x[3]*x[4]*Delta[1,5]*Delta[3,4])\n",
    "reduce_term(x[2]*Delta[1,2]*Delta[1,4])"
   ]
  },
  {
   "cell_type": "markdown",
   "id": "33479476-f028-4537-bc1f-93154952a222",
   "metadata": {},
   "source": [
    "## Intersection numbers "
   ]
  },
  {
   "cell_type": "markdown",
   "id": "306317ee-9c6a-427d-ac53-bef2f1a793d4",
   "metadata": {},
   "source": [
    "Once we have a monomial of degree $n$ in reduced form we can compute the corresponding intersection number via a graph-theoretic argument, following Lemma 4.2 of [APSW]. Let\n",
    "$$ x_{i_1}\\cdot x_{i_2} \\cdot \\dots \\cdot x_{i_r} \\cdot \\Delta_{h_1k_1} \\cdot \\dots \\Delta_{h_sk_s} \n",
    "$$ \n",
    "be a monomial in reduced form of degree $n$. Then let $\\Gamma$ be the graph with vertex set $V=\\{h_1,k_1,\\dots,h_s,k_s\\}$ and an edge between two vertices if and only $\\Delta_{h_ik_i}$ appears in the above monomial. We look at the connected components of $\\Gamma$: if each connected component has the same number of vertices and edges, then the intersection product is\n",
    "$$ x_{i_1}\\cdot x_{i_2} \\cdot \\dots \\cdot x_{i_r} \\cdot \\Delta_{h_1k_1} \\cdot \\dots \\Delta_{h_sk_s}  = (2-2g)^{\\# \\text{ conn. comp. }}\n",
    "$$ \n",
    "otherwise, the intersection product is zero."
   ]
  },
  {
   "cell_type": "code",
   "execution_count": 8,
   "id": "36748cbc-e777-444a-8d99-f0956a900095",
   "metadata": {},
   "outputs": [
    {
     "data": {
      "text/plain": [
       "intersection_product_polynomial_reduced (generic function with 1 method)"
      ]
     },
     "execution_count": 8,
     "metadata": {},
     "output_type": "execute_result"
    }
   ],
   "source": [
    "# The following function takes a term in reduced form of top degree n in C^n and gives the corresponding intersection number.\n",
    "# Note that the polynomial should be in reduced form\n",
    "\n",
    "function intersection_product_term_reduced(m)\n",
    "    E = exponent_vector(m,1);\n",
    "    E = E[n+1:length(E)];\n",
    "    A = reshape(E,(n,n))+copy(transpose(reshape(E,(n,n))));\n",
    "    G = Graphs.SimpleGraph(A);\n",
    "    connG = Graphs.connected_components(G);\n",
    "    intprod = coeff(m,1);\n",
    "    for i in connG\n",
    "        cg = Graphs.induced_subgraph(G,i)[1]\n",
    "        if (Graphs.nv(cg)!=1) && (Graphs.nv(cg) != Graphs.ne(cg))\n",
    "            return 0;\n",
    "        elseif (Graphs.nv(cg)!=1) && (Graphs.nv(cg) == Graphs.ne(cg))\n",
    "            intprod = intprod*(-(2g-2))\n",
    "        end\n",
    "    end\n",
    "return intprod \n",
    "end\n",
    "\n",
    "# We can now iterate this function over a polynomial of top degree n where all terms are in reduced form\n",
    "\n",
    "function intersection_product_polynomial_reduced(F)\n",
    "    intprod = 0\n",
    "    for i in 1:length(terms(F))\n",
    "        intprod = intprod + intersection_product_term_reduced(term(F,i)) \n",
    "    end\n",
    "    return intprod\n",
    "end\n",
    "\n",
    "\n",
    "\n",
    "# We can now iterate this function over a polynomial of top degree n where all terms are in reduced form\n",
    "\n",
    "function intersection_product_polynomial_reduced(F)\n",
    "    intprod = 0\n",
    "    for i in 1:length(terms(F))\n",
    "        intprod = intprod + intersection_product_term_reduced(term(F,i)) \n",
    "    end\n",
    "    return intprod\n",
    "end"
   ]
  },
  {
   "cell_type": "markdown",
   "id": "9bdf16f3-43fb-4f1a-a403-605fa5b7d723",
   "metadata": {},
   "source": [
    "# Example: Scorza correspondences"
   ]
  },
  {
   "cell_type": "markdown",
   "id": "cc477d38-235d-40ea-9e2f-4082f401193d",
   "metadata": {},
   "source": [
    "We apply these methods to some intersection problems related to Scorza correspondences, following Section 4.2 of [APSW]. Let $C$ be a smooth plane quartic curve of genus $3$, and let $\\eta$ be an even theta characteristic on it. The Scorza correspondence is the divisor in $C\\times C$ given by\n",
    "$$ S(\\eta) = \\{(x,y) \\,|\\, h^0(C,\\eta(x-y)) > 0\\} $$\n",
    "Its class inside $C\\times C$ is given by\n",
    "$$ [S(\\eta)] = 2x_1 + 2x_2 + \\Delta $$\n",
    "Inside the product $C^n$ we can consider the pullbacks of the Scorza correspondence $S_{ij} = \\operatorname{pr}_{i,j}^*S(\\eta)$. In particular, following Lemma 4.5 of [APSW], we expect that on $C^7$ we have\n",
    "$$ [S_{12}]\\cdot [S_{23}]\\cdot [S_{34}]\\cdot [S_{45}]\\cdot [S_{56}]\\cdot [S_{67}]\\cdot [S_{17}] = 4638$$\n",
    "We can compute this explicitly as follows."
   ]
  },
  {
   "cell_type": "code",
   "execution_count": 12,
   "id": "aef07e49-afe0-488b-9549-deb9937dc012",
   "metadata": {},
   "outputs": [
    {
     "data": {
      "text/plain": [
       "4372*x[1]*x[2]*x[3]*x[4]*x[5]*x[6]*x[7] + Delta[1, 2]*Delta[2, 3]*Delta[3, 4]*Delta[4, 5]*Delta[5, 6]*Delta[1, 7]*Delta[6, 7]"
      ]
     },
     "execution_count": 12,
     "metadata": {},
     "output_type": "execute_result"
    }
   ],
   "source": [
    "# We set the genus g of the curve C and the number of copies n in the Cartesian product C^n\n",
    "n = 7\n",
    "g = 3\n",
    "\n",
    "# We define the polynomial ring that we use to describe the intersection product: it has variables x[1],...,x[n] and Delta[1,2],...,Delta[n-1,n]\n",
    "\n",
    "RCart, x, Delta = polynomial_ring(QQ, \"x\" => (1:n), \"Delta\" => (1:n, 1:n));\n",
    "\n",
    "\n",
    "# We compute the reduced form of the product of Scorza correspondences: \n",
    "\n",
    "S12 = 2*x[1]+2*x[2]+Delta[1,2];\n",
    "S23 = 2*x[2]+2*x[3]+Delta[2,3];\n",
    "S34 = 2*x[3]+2*x[4]+Delta[3,4];\n",
    "S45 = 2*x[4]+2*x[5]+Delta[4,5];\n",
    "S56 = 2*x[5]+2*x[6]+Delta[5,6];\n",
    "S67 = 2*x[6]+2*x[7]+Delta[6,7];\n",
    "S17 = 2*x[1]+2*x[7]+Delta[1,7];\n",
    "\n",
    "F = S12*S23*S34*S45*S56*S67*S17;\n",
    "\n",
    "# The expression for the reduced polynomial is quite easy\n",
    "\n",
    "Fred = reduce_polynomial(F)"
   ]
  },
  {
   "cell_type": "code",
   "execution_count": 11,
   "id": "cc7acef1-2c52-475e-998c-62ed07aeaba9",
   "metadata": {},
   "outputs": [
    {
     "data": {
      "text/plain": [
       "4368"
      ]
     },
     "execution_count": 11,
     "metadata": {},
     "output_type": "execute_result"
    }
   ],
   "source": [
    "# We expect now to obtain 4368\n",
    "\n",
    "intersection_product_polynomial_reduced(Fred)"
   ]
  },
  {
   "cell_type": "code",
   "execution_count": null,
   "id": "ba51eac2-580e-4634-97bd-1c5705af61d9",
   "metadata": {},
   "outputs": [],
   "source": []
  }
 ],
 "metadata": {
  "kernelspec": {
   "display_name": "Julia 1.10.4",
   "language": "julia",
   "name": "julia-1.10"
  },
  "language_info": {
   "file_extension": ".jl",
   "mimetype": "application/julia",
   "name": "julia",
   "version": "1.10.4"
  }
 },
 "nbformat": 4,
 "nbformat_minor": 5
}
